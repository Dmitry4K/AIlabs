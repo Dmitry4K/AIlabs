{
 "cells": [
  {
   "cell_type": "markdown",
   "metadata": {},
   "source": [
    "# Машинное обучение. Лабораторная работа 1"
   ]
  },
  {
   "cell_type": "markdown",
   "metadata": {},
   "source": [
    "## Настройка среды"
   ]
  },
  {
   "cell_type": "code",
   "execution_count": 1,
   "metadata": {
    "scrolled": true
   },
   "outputs": [
    {
     "name": "stdout",
     "output_type": "stream",
     "text": [
      "Requirement already satisfied: numpy in d:\\programfiles\\anaconda\\lib\\site-packages (1.16.4)\n",
      "Note: you may need to restart the kernel to use updated packages.\n",
      "Requirement already satisfied: pandas in d:\\programfiles\\anaconda\\lib\\site-packages (0.24.2)\n",
      "Requirement already satisfied: numpy>=1.12.0 in d:\\programfiles\\anaconda\\lib\\site-packages (from pandas) (1.16.4)\n",
      "Requirement already satisfied: pytz>=2011k in d:\\programfiles\\anaconda\\lib\\site-packages (from pandas) (2019.1)\n",
      "Requirement already satisfied: python-dateutil>=2.5.0 in d:\\programfiles\\anaconda\\lib\\site-packages (from pandas) (2.8.0)\n",
      "Requirement already satisfied: six>=1.5 in d:\\programfiles\\anaconda\\lib\\site-packages (from python-dateutil>=2.5.0->pandas) (1.12.0)\n",
      "Note: you may need to restart the kernel to use updated packages.\n",
      "Requirement already satisfied: sklearn in d:\\programfiles\\anaconda\\lib\\site-packages (0.0)\n",
      "Requirement already satisfied: scikit-learn in d:\\programfiles\\anaconda\\lib\\site-packages (from sklearn) (0.21.2)\n",
      "Requirement already satisfied: scipy>=0.17.0 in d:\\programfiles\\anaconda\\lib\\site-packages (from scikit-learn->sklearn) (1.2.1)\n",
      "Requirement already satisfied: numpy>=1.11.0 in d:\\programfiles\\anaconda\\lib\\site-packages (from scikit-learn->sklearn) (1.16.4)\n",
      "Requirement already satisfied: joblib>=0.11 in d:\\programfiles\\anaconda\\lib\\site-packages (from scikit-learn->sklearn) (0.13.2)\n",
      "Note: you may need to restart the kernel to use updated packages.\n"
     ]
    }
   ],
   "source": [
    "%pip install numpy\n",
    "%pip install pandas\n",
    "%pip install sklearn"
   ]
  },
  {
   "cell_type": "markdown",
   "metadata": {},
   "source": [
    "## Задача и датасет\n",
    "\n",
    "Датасет взят с сайта : http://archive.ics.uci.edu/ml/datasets/Mushroom\n",
    "\n",
    "В базе данных представлена информацию о видах грибов, их свойствах и особенностях. По описанию гриба при помощи искусственного интеллекта будем решать задачу классификации грибов на ядовитые и съедобные"
   ]
  },
  {
   "cell_type": "markdown",
   "metadata": {},
   "source": [
    "## Датасет"
   ]
  },
  {
   "cell_type": "code",
   "execution_count": 2,
   "metadata": {},
   "outputs": [],
   "source": [
    "import pandas as pds\n",
    "\n",
    "df = pds.read_csv('agaricus-lepiota.data')"
   ]
  },
  {
   "cell_type": "code",
   "execution_count": 3,
   "metadata": {
    "scrolled": true
   },
   "outputs": [],
   "source": [
    "# df"
   ]
  },
  {
   "cell_type": "markdown",
   "metadata": {},
   "source": [
    "## Описание атрибутов и возможных значений: \n",
    "\n",
    "0. edible : p=poisonous, e=edible\n",
    "1. cap-shape: bell=b,conical=c,convex=x,flat=f, knobbed=k,sunken=s\n",
    "2. cap-surface: fibrous=f,grooves=g,scaly=y,smooth=s\n",
    "3. cap-color: brown=n,buff=b,cinnamon=c,gray=g,green=r, pink=p,purple=u,red=e,white=w,yellow=y\n",
    "4. bruises?: bruises=t,no=f\n",
    "5. odor: almond=a,anise=l,creosote=c,fishy=y,foul=f, musty=m,none=n,pungent=p,spicy=s\n",
    "6. gill-attachment: attached=a,descending=d,free=f,notched=n\n",
    "7. gill-spacing: close=c,crowded=w,distant=d\n",
    "8. gill-size: broad=b,narrow=n\n",
    "9. gill-color: black=k,brown=n,buff=b,chocolate=h,gray=g, green=r,orange=o,pink=p,purple=u,red=e, white=w,yellow=y\n",
    "10. stalk-shape: enlarging=e,tapering=t\n",
    "11. stalk-root: bulbous=b,club=c,cup=u,equal=e, rhizomorphs=z,rooted=r,missing=?\n",
    "12. stalk-surface-above-ring: fibrous=f,scaly=y,silky=k,smooth=s\n",
    "13. stalk-surface-below-ring: fibrous=f,scaly=y,silky=k,smooth=s\n",
    "14. stalk-color-above-ring: brown=n,buff=b,cinnamon=c,gray=g,orange=o, pink=p,red=e,white=w,yellow=y\n",
    "15. stalk-color-below-ring: brown=n,buff=b,cinnamon=c,gray=g,orange=o, pink=p,red=e,white=w,yellow=y\n",
    "16. veil-type: partial=p,universal=u\n",
    "17. veil-color: brown=n,orange=o,white=w,yellow=y\n",
    "18. ring-number: none=n,one=o,two=t\n",
    "19. ring-type: cobwebby=c,evanescent=e,flaring=f,large=l, none=n,pendant=p,sheathing=s,zone=z\n",
    "20. spore-print-color: black=k,brown=n,buff=b,chocolate=h,green=r, orange=o,purple=u,white=w,yellow=y\n",
    "21. population: abundant=a,clustered=c,numerous=n, scattered=s,several=v,solitary=y\n",
    "22. habitat: grasses=g,leaves=l,meadows=m,paths=p, urban=u,waste=w,woods=d"
   ]
  },
  {
   "cell_type": "markdown",
   "metadata": {},
   "source": [
    "Разделим датасет на обучающую и тестовую выборки. Так как записей в датасете - 8123, разделим датасет в соотношении 3:1 "
   ]
  },
  {
   "cell_type": "code",
   "execution_count": 4,
   "metadata": {},
   "outputs": [
    {
     "name": "stdout",
     "output_type": "stream",
     "text": [
      "6093\n"
     ]
    }
   ],
   "source": [
    "separate_index = int(3.0*len(df)/4.0)\n",
    "print(separate_index)"
   ]
  },
  {
   "cell_type": "code",
   "execution_count": 5,
   "metadata": {},
   "outputs": [],
   "source": [
    "df_learn = df.iloc[0:separate_index]\n",
    "df_test = df.iloc[separate_index:]"
   ]
  },
  {
   "cell_type": "markdown",
   "metadata": {},
   "source": [
    "# Алгоритм KNN"
   ]
  },
  {
   "cell_type": "markdown",
   "metadata": {},
   "source": [
    "## Подготовка датасета"
   ]
  },
  {
   "cell_type": "markdown",
   "metadata": {},
   "source": [
    "Реализуем алгоритм KNN, сначала сопоставим всем качественным признакам числовые значения и будем работать с числовыми значениями."
   ]
  },
  {
   "cell_type": "code",
   "execution_count": 6,
   "metadata": {
    "scrolled": true
   },
   "outputs": [],
   "source": [
    "edible_dict = { 'p' : 0, 'e' : 1 }\n",
    "cap_shape_dict = { 'b' : 0, 'c' : 1, 'x' : 2, 'f' : 3, 'k' : 4, 's' : 5 }\n",
    "cap_surface_dict = { 'f' : 0, 'g' : 1, 'y' : 2, 's' : 3 }\n",
    "cap_color_dict = { 'n' : 0, 'b' : 1, 'c' : 2, 'g' : 3, 'r' : 4, 'p' : 5, 'u' : 6, 'e' : 7, 'w' : 8, 'y' : 9 }\n",
    "bruises_dict = { 't' : 0, 'f' : 1 }\n",
    "odor_dict = { 'a' : 0, 'l' : 1, 'c' : 2, 'y' : 3, 'f' : 4, 'm' : 5, 'n' : 6, 'p' : 7, 's' : 8 }\n",
    "gill_attachment_dict = { 'a' : 0, 'd' : 1, 'f' : 2, 'n' : 3 }\n",
    "gill_spacing_dict = { 'c' : 0, 'w' : 1, 'd' : 2 }\n",
    "gill_size_dict = { 'b' : 0, 'n' : 1 }\n",
    "gill_color_dict = { 'k' : 0, 'n' : 1, 'b' : 2, 'h' : 3, 'g' : 4, 'r' : 5, 'o' : 6, 'p' : 7, 'u' : 8, 'e' : 9, 'w' : 10, 'y' : 11 }\n",
    "stalk_shape_dict = { 'e' : 0, 't' : 1 }\n",
    "stalk_root_dict = { 'b' : 0, 'c' : 1, 'u' : 2, 'e' : 3, 'z' : 4, 'r' : 5, '?' : 6 }\n",
    "stalk_surface_above_ring_dict = { 'f' : 0, 'y' : 1, 'k' : 2, 's' : 3 }\n",
    "stalk_surface_below_ring_dict = { 'f' : 0, 'y' : 1, 'k' : 2, 's' : 3 }\n",
    "stalk_color_above_ring_dict = { 'n' : 0, 'b' : 1, 'c' : 2, 'g' : 3, 'o' : 4, 'p' : 5, 'e' : 6, 'w' : 7, 'y' : 8 }\n",
    "stalk_color_below_ring_dict = { 'n' : 0, 'b' : 1, 'c' : 2, 'g' : 3, 'o' : 4, 'p' : 5, 'e' : 6, 'w' : 7, 'y' : 8 }\n",
    "veil_type_dict = { 'p' : 0, 'u' : 1 }\n",
    "veil_color_dict = { 'n' : 0, 'o' : 1, 'w' : 2, 'y' : 3 }\n",
    "ring_number_dict = { 'n' : 0, 'o' : 1, 't' : 2 }\n",
    "ring_type_dict = { 'c' : 0, 'e' : 1, 'f' : 2, 'l' : 3, 'n' : 4, 'p' : 5, 's' : 6, 'z' : 7 }\n",
    "spore_print_color_dict = { 'k' : 0, 'n' : 1, 'b' : 2, 'h' : 3, 'r' : 4, 'o' : 5, 'u' : 6, 'w' : 7, 'y' : 8 }\n",
    "population_dict = { 'a' : 0, 'c' : 1, 'n' : 2, 's' : 3, 'v' : 4, 'y' : 5 }\n",
    "habitat_dict = { 'g' : 0, 'l' : 1, 'm' : 2, 'p' : 3, 'u' : 4, 'w' : 5, 'd' : 6 }\n",
    "\n",
    "def replace_attribute_on_number(row):\n",
    "    row['edible'] = edible_dict[row['edible']] # 1\n",
    "    row['cap-shape'] = cap_shape_dict[row['cap-shape']] # 2\n",
    "    row['cap-surface'] = cap_surface_dict[row['cap-surface']] # 3\n",
    "    row['cap-color'] = cap_color_dict[row['cap-color']] # 4\n",
    "    row['bruises'] = bruises_dict[row['bruises']] # 5\n",
    "    row['odor'] = odor_dict[row['odor']] # 6\n",
    "    row['gill-attachment'] = gill_attachment_dict[row['gill-attachment']] # 7\n",
    "    row['gill-spacing'] = gill_spacing_dict[row['gill-spacing']] # 8\n",
    "    row['gill-size'] = gill_size_dict[row['gill-size']] # 9\n",
    "    row['gill-color'] = gill_color_dict[row['gill-color']] # 10\n",
    "    row['stalk-shape'] = stalk_shape_dict[row['stalk-shape']] # 11\n",
    "    row['stalk-root'] = stalk_root_dict[row['stalk-root']] # 12\n",
    "    row['stalk-surface-above-ring'] = stalk_surface_above_ring_dict[row['stalk-surface-above-ring']] # 13\n",
    "    row['stalk-surface-below-ring'] = stalk_surface_below_ring_dict[row['stalk-surface-below-ring']] # 14\n",
    "    row['stalk-color-above-ring'] = stalk_color_above_ring_dict[row['stalk-color-above-ring']] # 15\n",
    "    row['stalk-color-below-ring'] = stalk_color_below_ring_dict[row['stalk-color-below-ring']] # 16\n",
    "    row['veil-type'] = veil_type_dict[row['veil-type']] # 17\n",
    "    row['veil-color'] = veil_color_dict[row['veil-color']] # 18\n",
    "    row['ring-number'] = ring_number_dict[row['ring-number']] # 19\n",
    "    row['ring-type'] = ring_type_dict[row['ring-type']] # 20\n",
    "    row['spore-print-color'] = spore_print_color_dict[row['spore-print-color']] # 21\n",
    "    row['population'] = population_dict[row['population']] # 22\n",
    "    row['habitat'] = habitat_dict[row['habitat']] # 23\n",
    "\n",
    "\n",
    "def change_atr_to_numbers_in_df(df):\n",
    "    df_copy = df.copy()\n",
    "    for index, row in df_copy.iterrows():\n",
    "        replace_attribute_on_number(row)\n",
    "    return df_copy\n",
    "\n",
    "df_learn_numeric = change_atr_to_numbers_in_df(df_learn)\n"
   ]
  },
  {
   "cell_type": "code",
   "execution_count": 7,
   "metadata": {},
   "outputs": [],
   "source": [
    "# df_learn_numeric"
   ]
  },
  {
   "cell_type": "markdown",
   "metadata": {},
   "source": [
    "Получим ядовитые и съедобные грибы"
   ]
  },
  {
   "cell_type": "code",
   "execution_count": 8,
   "metadata": {},
   "outputs": [],
   "source": [
    "df_learn_poisonous = df_learn_numeric[df_learn_numeric['edible'] == 0]\n",
    "df_learn_edible =    df_learn_numeric[df_learn_numeric['edible'] == 1]"
   ]
  },
  {
   "cell_type": "markdown",
   "metadata": {},
   "source": [
    "Проверим, что разделение прошло успешно"
   ]
  },
  {
   "cell_type": "code",
   "execution_count": 9,
   "metadata": {},
   "outputs": [
    {
     "name": "stdout",
     "output_type": "stream",
     "text": [
      "True\n"
     ]
    }
   ],
   "source": [
    "print((len(df_learn_edible) + len(df_learn_poisonous) == len(df_learn_numeric)))"
   ]
  },
  {
   "cell_type": "markdown",
   "metadata": {},
   "source": [
    "## Функционал"
   ]
  },
  {
   "cell_type": "markdown",
   "metadata": {},
   "source": [
    "Датасет подготовлен для обучения модели. Введем несколько дополнительных функций: эвклидово расстояние по которому будем рассчитывать расстояние и функцию взятия среднего арифметического. "
   ]
  },
  {
   "cell_type": "code",
   "execution_count": 10,
   "metadata": {},
   "outputs": [],
   "source": [
    "from math import sqrt\n",
    "def euclidean(v1, v2):\n",
    "    return sqrt(sum([(x - y)**2 for x, y in zip(v1, v2)]))\n",
    "\n",
    "def get_middle_point(df):\n",
    "    result = []\n",
    "    df_lists = df.values.tolist()\n",
    "    for i in range(1, 23):\n",
    "        sum = 0\n",
    "        for llist in df_lists:\n",
    "            sum += llist[i]\n",
    "        result.append(sum/len(df))\n",
    "    return result"
   ]
  },
  {
   "cell_type": "markdown",
   "metadata": {},
   "source": [
    "## Обучение модели\n",
    "\n",
    "Найдем две 22-мерные точки соотвествующие вредным и съедобным грибам"
   ]
  },
  {
   "cell_type": "code",
   "execution_count": 11,
   "metadata": {},
   "outputs": [
    {
     "name": "stdout",
     "output_type": "stream",
     "text": [
      "Центр группы съедобных грибов: [2.3448275862068964, 1.4439315775183275, 4.2682595710019005, 0.26147162639152866, 4.805321748574531, 1.9989139288623405, 0.2478957371707847, 0.0781971219114852, 5.415965245723595, 0.7037740972033668, 1.4993212055389629, 2.667390714091773, 2.524029323920717, 6.03393972305186, 5.94270974748846, 0.0, 1.9989139288623405, 1.0524029323920716, 3.8661417322834644, 1.0363833831115938, 3.366549008960087, 3.645397773554168]\n",
      "\n",
      "Центр группы ядовитых грибов:  [2.3991701244813277, 1.6157676348547718, 5.003734439834025, 0.7410788381742739, 4.34149377593361, 2.0, 0.043153526970954356, 0.3128630705394191, 4.75850622406639, 0.22987551867219916, 1.0605809128630705, 2.211203319502075, 2.198755186721992, 4.197510373443984, 4.154356846473029, 0.0, 2.0, 1.029875518672199, 3.429875518672199, 3.0730290456431537, 4.106224066390041, 3.0182572614107883]\n"
     ]
    }
   ],
   "source": [
    "poisonous_point = []\n",
    "edible_point = []\n",
    "\n",
    "def learn_process_knn():\n",
    "    edible_point = get_middle_point(df_learn_edible)\n",
    "    poisonous_point = get_middle_point(df_learn_poisonous)\n",
    "    return edible_point, poisonous_point\n",
    "\n",
    "edible_point, poisonous_point = learn_process_knn()  \n",
    "print(\"Центр группы съедобных грибов: {}\".format(edible_point))\n",
    "print()\n",
    "print(\"Центр группы ядовитых грибов:  {}\".format(poisonous_point))"
   ]
  },
  {
   "cell_type": "markdown",
   "metadata": {},
   "source": [
    "Обучили модель, теперь проведем тестирование"
   ]
  },
  {
   "cell_type": "markdown",
   "metadata": {},
   "source": [
    "### Тестирование"
   ]
  },
  {
   "cell_type": "code",
   "execution_count": 12,
   "metadata": {},
   "outputs": [
    {
     "name": "stdout",
     "output_type": "stream",
     "text": [
      "Точность алгоритма: 83.89955686853766%\n"
     ]
    }
   ],
   "source": [
    "def is_edible_knn(row):\n",
    "    len_to_poisonous = euclidean(row[1:], poisonous_point)\n",
    "    len_to_edible = euclidean(row[1:], edible_point)\n",
    "    return len_to_edible < len_to_poisonous\n",
    "        \n",
    "def test_knn(df):\n",
    "    df_numeric = change_atr_to_numbers_in_df(df)\n",
    "    success_count = 0\n",
    "    for index, row in df_numeric.iterrows():\n",
    "        real_answer = (row['edible'] == 1)\n",
    "        algo_answer = is_edible_knn(row)\n",
    "        if real_answer == algo_answer:\n",
    "            success_count += 1\n",
    "    return success_count/len(df)\n",
    "    \n",
    "print(\"Точность алгоритма: {}%\".format(test_knn(df_test)*100))"
   ]
  },
  {
   "cell_type": "markdown",
   "metadata": {},
   "source": [
    "## Наивный байесовский классификатор\n",
    "\n",
    "Реализуем простейший байесовский классификатор\n",
    "\n",
    "Для начала посчитаем сколько в обучающей выборке встречаются ядовитые и съедобвные грибы"
   ]
  },
  {
   "cell_type": "code",
   "execution_count": 13,
   "metadata": {},
   "outputs": [
    {
     "name": "stdout",
     "output_type": "stream",
     "text": [
      "Ядовитых грибов: 2410, съедобных: 3683\n"
     ]
    }
   ],
   "source": [
    "count_poisonous = len(df_learn_poisonous)\n",
    "count_edible = len(df_learn_edible)\n",
    "print(\"Ядовитых грибов: {}, съедобных: {}\".format(count_poisonous,count_edible))"
   ]
  },
  {
   "cell_type": "markdown",
   "metadata": {},
   "source": [
    "Посчитаем вероятности встретить каждый признак в каждом классе"
   ]
  },
  {
   "cell_type": "code",
   "execution_count": 14,
   "metadata": {},
   "outputs": [],
   "source": [
    "def get_dict_probabilities(df):\n",
    "    res = list()\n",
    "    df_lists = df.values.tolist()\n",
    "    for i in range(1,23):\n",
    "        atr_probabilities = dict()\n",
    "        for llist in df_lists:\n",
    "            if llist[i] in atr_probabilities:\n",
    "                atr_probabilities[llist[i]] += 1\n",
    "            else :\n",
    "                atr_probabilities[llist[i]] = 1\n",
    "        for item in atr_probabilities:\n",
    "            atr_probabilities[item] /= len(df)\n",
    "        res.append(atr_probabilities)\n",
    "    return res\n",
    "\n",
    "dict_poisonous = get_dict_probabilities(df_learn_poisonous)\n",
    "dict_edible = get_dict_probabilities(df_learn_edible)"
   ]
  },
  {
   "cell_type": "markdown",
   "metadata": {},
   "source": [
    "### Тестирование"
   ]
  },
  {
   "cell_type": "code",
   "execution_count": 15,
   "metadata": {},
   "outputs": [
    {
     "name": "stdout",
     "output_type": "stream",
     "text": [
      "Точность алгоритма: 83.45642540620383%\n"
     ]
    }
   ],
   "source": [
    "def is_edible_bayes(row):\n",
    "    list_row = row.tolist()\n",
    "    sum_poisonous = 0\n",
    "    sum_edible = 0\n",
    "    for i in range(1,23):\n",
    "        if list_row[i] in dict_poisonous[i-1]:\n",
    "            sum_poisonous += dict_poisonous[i-1][list_row[i]]\n",
    "        if list_row[i] in dict_edible[i-1]:\n",
    "            sum_edible += dict_edible[i-1][list_row[i]]\n",
    "    return sum_edible > sum_poisonous\n",
    "\n",
    "def test_bayes(df):\n",
    "    df_numeric = change_atr_to_numbers_in_df(df)\n",
    "    success_count = 0\n",
    "    for index, row in df_numeric.iterrows():\n",
    "        real_answer = (row['edible'] == 1)\n",
    "        algo_answer = is_edible_bayes(row)\n",
    "        if real_answer == algo_answer:\n",
    "            success_count += 1\n",
    "    return success_count/len(df)\n",
    "\n",
    "print(\"Точность алгоритма: {}%\".format(test_bayes(df_test)*100))"
   ]
  },
  {
   "cell_type": "markdown",
   "metadata": {},
   "source": [
    "## Сравнение с реализацией sklearn\n",
    "\n",
    "### Алгоритм KNN"
   ]
  },
  {
   "cell_type": "markdown",
   "metadata": {},
   "source": [
    "Подготовим данные для алгоритма"
   ]
  },
  {
   "cell_type": "code",
   "execution_count": 16,
   "metadata": {},
   "outputs": [],
   "source": [
    "df_sklearn_train_data = list()\n",
    "df_sklearn_train_ans = list()\n",
    "for index, row in df_learn_poisonous.iterrows():\n",
    "    df_sklearn_train_data.append(row.values[1:])\n",
    "    df_sklearn_train_ans.append(row.values[0])\n",
    "for index, row in df_learn_edible.iterrows():\n",
    "    df_sklearn_train_data.append(row.values[1:])\n",
    "    df_sklearn_train_ans.append(row.values[0])\n",
    "    \n",
    "df_sklearn_test_data = list()\n",
    "df_sklearn_test_ans = list()\n",
    "for index, row in change_atr_to_numbers_in_df(df_test).iterrows():\n",
    "    df_sklearn_test_data.append(row.values[1:])\n",
    "    df_sklearn_test_ans.append(row.values[0])"
   ]
  },
  {
   "cell_type": "markdown",
   "metadata": {},
   "source": [
    "Проводим тестирование"
   ]
  },
  {
   "cell_type": "code",
   "execution_count": 17,
   "metadata": {
    "scrolled": true
   },
   "outputs": [
    {
     "name": "stdout",
     "output_type": "stream",
     "text": [
      "Точность алгоритма : 81.33924175283111%\n"
     ]
    }
   ],
   "source": [
    "from sklearn.neighbors import KNeighborsClassifier\n",
    "\n",
    "nbrs = KNeighborsClassifier(n_neighbors=10, algorithm='auto').fit(df_sklearn_train_data, df_sklearn_train_ans)\n",
    "\n",
    "print(\"Точность алгоритма : {}%\".format(nbrs.score(df_sklearn_test_data, df_sklearn_test_ans)*100))"
   ]
  },
  {
   "cell_type": "markdown",
   "metadata": {},
   "source": [
    "### Байесовский классификатор\n",
    "\n",
    "Проводим тестирование"
   ]
  },
  {
   "cell_type": "code",
   "execution_count": 18,
   "metadata": {
    "scrolled": true
   },
   "outputs": [
    {
     "name": "stdout",
     "output_type": "stream",
     "text": [
      "Точность алгоритма : 96.30723781388478%\n"
     ]
    }
   ],
   "source": [
    "from sklearn.naive_bayes import GaussianNB\n",
    "\n",
    "gnb = GaussianNB().fit(df_sklearn_train_data, df_sklearn_train_ans)\n",
    "\n",
    "print(\"Точность алгоритма : {}%\".format(gnb.score(df_sklearn_test_data, df_sklearn_test_ans)*100))"
   ]
  },
  {
   "cell_type": "markdown",
   "metadata": {},
   "source": [
    "## Выводы\n",
    "\n",
    "В ходе лабораторной работы были реализованы простейшие классификаторы KNN и байесовкий с приблизительной точностью для выбранного мной датасета в 83% каждый. Сравнил собственную реализацию с реализациями в библиотеке sklearn. Точность KNN собственной реализации оказалась примерно такой же как и в sklearn, алгоритм байесовского классификатора в sklearn имеет удивительно высокую точность в 96%, точность байесовского классификатора сильно выше моей собственной реализации.\n",
    "\n",
    "В ходе выполнения работы смог убедится на практике в том, что при помощи математики, вычислительной техники и данных можно находить различные корреляции между метриками, которые не поддаются обычному разъяснению для единичных сущностей, иначе говоря, на основе статистики можно с большой долей вероятности предсказать некоторые свойства выбранного объекта. "
   ]
  }
 ],
 "metadata": {
  "kernelspec": {
   "display_name": "Python 3",
   "language": "python",
   "name": "python3"
  },
  "language_info": {
   "codemirror_mode": {
    "name": "ipython",
    "version": 3
   },
   "file_extension": ".py",
   "mimetype": "text/x-python",
   "name": "python",
   "nbconvert_exporter": "python",
   "pygments_lexer": "ipython3",
   "version": "3.7.3"
  }
 },
 "nbformat": 4,
 "nbformat_minor": 2
}
